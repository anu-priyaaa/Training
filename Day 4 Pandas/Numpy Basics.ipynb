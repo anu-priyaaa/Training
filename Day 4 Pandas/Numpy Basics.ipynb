{
 "cells": [
  {
   "cell_type": "code",
   "execution_count": 1,
   "id": "b488399b-323e-42a1-ba4b-1e7dbecf2f82",
   "metadata": {},
   "outputs": [],
   "source": [
    "import numpy as np\n"
   ]
  },
  {
   "cell_type": "code",
   "execution_count": 2,
   "id": "010e9051-4120-4adf-9c4a-b82de18678b5",
   "metadata": {},
   "outputs": [
    {
     "name": "stdout",
     "output_type": "stream",
     "text": [
      "2.2.3\n"
     ]
    }
   ],
   "source": [
    "import numpy as np\n",
    "print(np.__version__)"
   ]
  },
  {
   "cell_type": "code",
   "execution_count": 3,
   "id": "6d037794-08d1-4b3d-81ac-9c57fbd15d31",
   "metadata": {},
   "outputs": [
    {
     "name": "stdout",
     "output_type": "stream",
     "text": [
      "[10 20 30 40 50]\n",
      "Type: <class 'numpy.ndarray'>\n",
      "Shape (5,)\n"
     ]
    }
   ],
   "source": [
    "list = [10, 20, 30, 40, 50]\n",
    "arr = np.array(list)\n",
    "print(arr)\n",
    "print('Type:', type(arr))\n",
    "print('Shape',arr.shape)"
   ]
  },
  {
   "cell_type": "code",
   "execution_count": 5,
   "id": "da646627-6737-4e95-a7df-20f67c595d96",
   "metadata": {},
   "outputs": [
    {
     "name": "stdout",
     "output_type": "stream",
     "text": [
      "[[1 2 3]\n",
      " [4 5 6]]\n",
      "(2, 3)\n",
      "6\n",
      "[1 2 3]\n",
      "3\n"
     ]
    }
   ],
   "source": [
    "arr1=np.array([[1,2,3],[4,5,6]])\n",
    "print(arr1)\n",
    "print(arr1.shape)\n",
    "print(arr1.size)\n",
    "print(arr1[0])\n",
    "print(arr1[0][2])\n"
   ]
  },
  {
   "cell_type": "code",
   "execution_count": 6,
   "id": "97e8e831-19c7-4892-83f4-7e0468ae774b",
   "metadata": {},
   "outputs": [
    {
     "name": "stdout",
     "output_type": "stream",
     "text": [
      "[[0. 0. 0.]\n",
      " [0. 0. 0.]]\n",
      "0.0\n"
     ]
    }
   ],
   "source": [
    "arr1=np.zeros([2,3])\n",
    "print(arr1)\n",
    "print(arr1[0][1])"
   ]
  },
  {
   "cell_type": "code",
   "execution_count": 10,
   "id": "28b97462-473d-4bfb-9b93-24f556eb809e",
   "metadata": {},
   "outputs": [
    {
     "name": "stdout",
     "output_type": "stream",
     "text": [
      "[[1. 1. 1.]\n",
      " [1. 1. 1.]\n",
      " [1. 1. 1.]]\n"
     ]
    }
   ],
   "source": [
    "arr2=np.ones((3,3))\n",
    "print(arr2)"
   ]
  },
  {
   "cell_type": "code",
   "execution_count": 12,
   "id": "cc668523-ff95-4dc7-9b2c-dcb6c08ad1ce",
   "metadata": {},
   "outputs": [
    {
     "name": "stdout",
     "output_type": "stream",
     "text": [
      "[1 4 7]\n"
     ]
    }
   ],
   "source": [
    "arr3=np.arange(1,10,3)\n",
    "print(arr3)"
   ]
  },
  {
   "cell_type": "code",
   "execution_count": 14,
   "id": "ffe3621b-3e87-44f4-aa1a-41959cc48fcf",
   "metadata": {},
   "outputs": [
    {
     "name": "stdout",
     "output_type": "stream",
     "text": [
      "[[1 4 7]\n",
      " [2 5 8]]\n"
     ]
    }
   ],
   "source": [
    "sample=np.array([np.arange(1,10,3),np.arange(2,10,3)])\n",
    "print(sample)"
   ]
  },
  {
   "cell_type": "code",
   "execution_count": 19,
   "id": "34b1893c-e24b-487c-aca8-9330ace6e32c",
   "metadata": {},
   "outputs": [
    {
     "name": "stdout",
     "output_type": "stream",
     "text": [
      "Total Spend: [ 450  950  450 1650  230]\n",
      "Average Spend: [150.         316.66666667 150.         550.          76.66666667]\n",
      "550.0\n"
     ]
    }
   ],
   "source": [
    "import numpy as np\n",
    "purchase=np.array([\n",
    "    [200,150,100],\n",
    "    [300,250,400],\n",
    "    [100,200,150],\n",
    "    [500,600,550],\n",
    "    [50,80,100]\n",
    "])\n",
    "total_spend = purchase.sum(axis=1)\n",
    "average_spend = purchase.mean(axis=1)\n",
    "print(\"Total Spend:\",total_spend)\n",
    "print(\"Average Spend:\",average_spend)\n",
    "print(max(average_spend))"
   ]
  },
  {
   "cell_type": "code",
   "execution_count": 22,
   "id": "e0690ae1-7a30-4986-a867-b9af115a88a7",
   "metadata": {},
   "outputs": [
    {
     "name": "stdout",
     "output_type": "stream",
     "text": [
      "Solution(x,y): [2.2 1.2]\n"
     ]
    }
   ],
   "source": [
    "#2x+3y=8\n",
    "#4x+y=10\n",
    "import numpy as np\n",
    "#coeffient of variables \n",
    "A=np.array([[2,3],[4,1]])\n",
    "#constants on the rhs\n",
    "B=np.array([8,10])\n",
    "#Solve for x and y \n",
    "solution=np.linalg.solve(A,B)\n",
    "print(\"Solution(x,y):\",solution)"
   ]
  },
  {
   "cell_type": "code",
   "execution_count": 23,
   "id": "ceb1fc64-936a-45e3-a493-83eeba65776f",
   "metadata": {},
   "outputs": [
    {
     "name": "stdout",
     "output_type": "stream",
     "text": [
      "29254\n"
     ]
    }
   ],
   "source": [
    "sales=np.array([1000,2000,1800,1500,1900,2000,1750,6476,8484,2344])\n",
    "total_sales=sum(sales)\n",
    "print(total_sales)"
   ]
  },
  {
   "cell_type": "code",
   "execution_count": 24,
   "id": "7ad0f762-74ba-4953-80c5-38043b2f6deb",
   "metadata": {},
   "outputs": [
    {
     "name": "stdout",
     "output_type": "stream",
     "text": [
      "2925.4\n"
     ]
    }
   ],
   "source": [
    "average_sales=np.mean(sales)\n",
    "print(average_sales)"
   ]
  },
  {
   "cell_type": "code",
   "execution_count": 25,
   "id": "4bdb50a7-fd2d-4f19-8040-26eb9c1339cf",
   "metadata": {},
   "outputs": [
    {
     "name": "stdout",
     "output_type": "stream",
     "text": [
      "8484\n"
     ]
    }
   ],
   "source": [
    "print(max(sales))"
   ]
  },
  {
   "cell_type": "code",
   "execution_count": 28,
   "id": "2d1225b5-9fa0-4a6c-bdce-8e0f243ba5f1",
   "metadata": {},
   "outputs": [
    {
     "name": "stdout",
     "output_type": "stream",
     "text": [
      "[1000 2000 1800 1500 1900 2000 1750 6476 8484 2344]\n"
     ]
    }
   ],
   "source": [
    "print(sales)"
   ]
  },
  {
   "cell_type": "code",
   "execution_count": 29,
   "id": "15ba79cb-a699-49d1-97fa-1c2a7b8b4510",
   "metadata": {},
   "outputs": [
    {
     "name": "stdout",
     "output_type": "stream",
     "text": [
      "1000\n"
     ]
    }
   ],
   "source": [
    "print(min(sales))"
   ]
  },
  {
   "cell_type": "code",
   "execution_count": 27,
   "id": "6b8663b6-2b2f-4b85-9fcc-4673d176c1f6",
   "metadata": {},
   "outputs": [
    {
     "name": "stdout",
     "output_type": "stream",
     "text": [
      "1100.0\n",
      "2200.0\n",
      "1980.0000000000002\n",
      "1650.0000000000002\n",
      "2090.0\n",
      "2200.0\n",
      "1925.0000000000002\n",
      "7123.6\n",
      "9332.400000000001\n",
      "2578.4\n"
     ]
    }
   ],
   "source": [
    "for num in sales:\n",
    "    increase = 1.1 * num\n",
    "    print(increase)"
   ]
  },
  {
   "cell_type": "code",
   "execution_count": null,
   "id": "46c925ff-9ed7-404c-b3e7-cac7a46cd1db",
   "metadata": {},
   "outputs": [],
   "source": [
    "import numpy as np"
   ]
  }
 ],
 "metadata": {
  "kernelspec": {
   "display_name": "Python 3 (ipykernel)",
   "language": "python",
   "name": "python3"
  },
  "language_info": {
   "codemirror_mode": {
    "name": "ipython",
    "version": 3
   },
   "file_extension": ".py",
   "mimetype": "text/x-python",
   "name": "python",
   "nbconvert_exporter": "python",
   "pygments_lexer": "ipython3",
   "version": "3.13.2"
  }
 },
 "nbformat": 4,
 "nbformat_minor": 5
}
