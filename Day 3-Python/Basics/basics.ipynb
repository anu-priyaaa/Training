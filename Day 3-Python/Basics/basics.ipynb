{
 "cells": [
  {
   "cell_type": "code",
   "execution_count": 2,
   "id": "d9867bc9-d27e-4a1a-902d-812ad9970771",
   "metadata": {},
   "outputs": [
    {
     "name": "stdout",
     "output_type": "stream",
     "text": [
      "Hello world\n"
     ]
    }
   ],
   "source": [
    "#hello\n",
    "print(\"Hello world\")"
   ]
  },
  {
   "cell_type": "code",
   "execution_count": 9,
   "id": "5a0774ad-23cb-430d-abd7-c00b5a175c73",
   "metadata": {},
   "outputs": [
    {
     "name": "stdout",
     "output_type": "stream",
     "text": [
      "Number 1:  10\n",
      "Number 2: 20.89\n",
      "Name : Mind sprint\n"
     ]
    }
   ],
   "source": [
    "#variables\n",
    "'''vinutha'''\n",
    "num1=10\n",
    "num2=20.89\n",
    "names=\"Mind sprint\"\n",
    "print(\"Number 1: \",num1)\n",
    "print(f\"Number 2: {num2}\")\n",
    "print(\"Name :\",names)"
   ]
  },
  {
   "cell_type": "code",
   "execution_count": 13,
   "id": "e4b61747-3cf7-4f37-b235-4d67ebb202c2",
   "metadata": {},
   "outputs": [
    {
     "name": "stdout",
     "output_type": "stream",
     "text": [
      "test1 test2 test3\n",
      "temp temp temp\n"
     ]
    }
   ],
   "source": [
    "#value assignment for variables\n",
    "x,y,z=\"test1\",\"test2\",\"test3\"\n",
    "print(x,y,z)\n",
    "#Assign some value to multiple variables\n",
    "p=q=r=\"temp\"\n",
    "print(p,q,r,)"
   ]
  },
  {
   "cell_type": "code",
   "execution_count": 22,
   "id": "67ffda18-7f77-40de-822f-fb130171a614",
   "metadata": {},
   "outputs": [
    {
     "name": "stdin",
     "output_type": "stream",
     "text": [
      "Entre the number: 3\n",
      "Enter another number: 1\n"
     ]
    },
    {
     "name": "stdout",
     "output_type": "stream",
     "text": [
      "Addition: 4\n",
      "Subtraction: 2\n",
      "Multiplication: 3\n",
      "Division: 3.0\n",
      "Exponential: 1\n",
      "Floor division: 0\n",
      "are two number erqual? False\n",
      "is a not equal to b True\n",
      "is a greater than b? True\n",
      "Is b greater than b? False\n",
      "is a greater than and equal to b? True\n"
     ]
    }
   ],
   "source": [
    "#operators\n",
    "a=int(input(\"Entre the number:\"))\n",
    "b=int(input(\"Enter another number:\"))\n",
    "add=a+b\n",
    "print(\"Addition:\",add)\n",
    "sub=a-b\n",
    "print(\"Subtraction:\",sub)\n",
    "multi=a*b\n",
    "print(\"Multiplication:\",multi)\n",
    "div=a/b\n",
    "print(\"Division:\",div)\n",
    "expo=b**2\n",
    "print(\"Exponential:\",expo)\n",
    "floor=b//a\n",
    "print(\"Floor division:\",floor)\n",
    "print(\"are two number erqual?\",a==b)\n",
    "print(\"is a not equal to b\",a!=b)\n",
    "print(\"is a greater than b?\",a>b)\n",
    "print(\"Is b greater than b?\",a<b)\n",
    "print(\"is a greater than and equal to b?\",a>=b)"
   ]
  },
  {
   "cell_type": "code",
   "execution_count": 28,
   "id": "3890faca-5492-483a-aefe-74676977c276",
   "metadata": {},
   "outputs": [
    {
     "name": "stdout",
     "output_type": "stream",
     "text": [
      "Initial value: 10\n",
      "Number after adding 3: 13\n",
      "Number after decrementing 3: 10\n",
      "Number after multiplying by 2: 20\n",
      "Number after Exponent: 400\n",
      "Number after floor: 200\n"
     ]
    }
   ],
   "source": [
    "num=10\n",
    "print(\"Initial value:\",num)\n",
    "num+=3\n",
    "print(\"Number after adding 3:\",num)\n",
    "num-=3\n",
    "print(\"Number after decrementing 3:\",num)\n",
    "num*=2\n",
    "print(\"Number after multiplying by 2:\",num)\n",
    "num**=2\n",
    "print(\"Number after Exponent:\",num)\n",
    "num//=2\n",
    "print(\"Number after floor:\",num)"
   ]
  },
  {
   "cell_type": "code",
   "execution_count": 30,
   "id": "e9aa3834-1169-4ff0-b5cc-fe3fd4d0e522",
   "metadata": {},
   "outputs": [
    {
     "name": "stdin",
     "output_type": "stream",
     "text": [
      "Entre your email: admin@gmail.com\n",
      "enter your password: admin@123\n"
     ]
    },
    {
     "name": "stdout",
     "output_type": "stream",
     "text": [
      "True\n"
     ]
    }
   ],
   "source": [
    "email=input(\"Entre your email:\")\n",
    "password=input(\"enter your password:\")\n",
    "print(email=='admin@gmail.com' and password=='admin@123')"
   ]
  },
  {
   "cell_type": "code",
   "execution_count": 35,
   "id": "b7a4f37a-7a15-402e-a3aa-a013d775e986",
   "metadata": {},
   "outputs": [
    {
     "name": "stdin",
     "output_type": "stream",
     "text": [
      "Enter the number: -2\n"
     ]
    },
    {
     "name": "stdout",
     "output_type": "stream",
     "text": [
      "The number is negative\n"
     ]
    }
   ],
   "source": [
    "num=int(input(\"Enter the number:\"))\n",
    "if num>0:\n",
    "    print(\"The number is positive\")\n",
    "else:\n",
    "    print(\"The number is negative\")"
   ]
  },
  {
   "cell_type": "code",
   "execution_count": 37,
   "id": "3283c5f8-8068-43ab-8b52-26b55a33cdbf",
   "metadata": {},
   "outputs": [
    {
     "name": "stdin",
     "output_type": "stream",
     "text": [
      "Enter the number: -2\n"
     ]
    },
    {
     "name": "stdout",
     "output_type": "stream",
     "text": [
      "Negative\n"
     ]
    }
   ],
   "source": [
    "num=int(input(\"Enter the number:\"))\n",
    "print(\"positive\") if num>0 else print(\"Negative\")"
   ]
  },
  {
   "cell_type": "code",
   "execution_count": 43,
   "id": "8566a0fe-7189-4789-a9a6-64f48704876c",
   "metadata": {},
   "outputs": [
    {
     "name": "stdin",
     "output_type": "stream",
     "text": [
      "Enter the number: 3\n"
     ]
    },
    {
     "name": "stdout",
     "output_type": "stream",
     "text": [
      "the number is odd\n"
     ]
    }
   ],
   "source": [
    "num=int(input(\"Enter the number:\"))\n",
    "if num>0:\n",
    "    if num % 2 == 0:\n",
    "        print(\"the number is even\")\n",
    "    else:\n",
    "        print(\"the number is odd\")\n",
    "else:\n",
    "    print(\"The number is negative\")"
   ]
  },
  {
   "cell_type": "code",
   "execution_count": 44,
   "id": "10a648a6-64ae-46cf-afc6-9b56e93c34a8",
   "metadata": {},
   "outputs": [],
   "source": [
    "num=5\n",
    "if num>0:\n",
    "    # a placeholder for future code , avoids syntax errors\n",
    "    pass\n",
    "else:\n",
    "    print(\"this wont execute\")"
   ]
  },
  {
   "cell_type": "code",
   "execution_count": 51,
   "id": "1d5ebcb9-3e8c-41d9-b683-81b232e8d3aa",
   "metadata": {},
   "outputs": [
    {
     "name": "stdin",
     "output_type": "stream",
     "text": [
      "Enter the :marks 66\n"
     ]
    },
    {
     "name": "stdout",
     "output_type": "stream",
     "text": [
      "Grade C\n"
     ]
    }
   ],
   "source": [
    "marks=int(input(\"Enter the :marks\"))\n",
    "if 90<=marks<=100:\n",
    "    print(\"Grade A\")\n",
    "elif 70<=marks<=89:\n",
    "    print(\"Grade B\")\n",
    "elif 50<=marks<=69:\n",
    "    print(\"Grade C\")\n",
    "elif 0<=marks<=50:\n",
    "    print(\"fail\")\n",
    "else:\n",
    "    print(\"Invalid input\")"
   ]
  },
  {
   "cell_type": "code",
   "execution_count": 60,
   "id": "271a4d28-9673-42e9-bf77-67df3fc876f4",
   "metadata": {},
   "outputs": [
    {
     "name": "stdin",
     "output_type": "stream",
     "text": [
      "Enter the number: -12\n"
     ]
    },
    {
     "name": "stdout",
     "output_type": "stream",
     "text": [
      "the number is less than -10\n"
     ]
    }
   ],
   "source": [
    "num=int(input(\"Enter the number:\"))\n",
    "if num >0:\n",
    "    if num % 2 == 0:\n",
    "        print(\"the number is positive and even\")\n",
    "    else:\n",
    "        print(\"the number is positive and odd\")\n",
    "elif num == 0:\n",
    "    print(\"the number is zero\")\n",
    "else:\n",
    "    if num <-10:\n",
    "        print(\"the number is less than -10\")\n",
    "    else:\n",
    "        print(\"the number is greater than -10\")"
   ]
  },
  {
   "cell_type": "code",
   "execution_count": 67,
   "id": "d3db96d6-4aba-4417-9610-9308f76fab75",
   "metadata": {},
   "outputs": [
    {
     "name": "stdin",
     "output_type": "stream",
     "text": [
      "Enter the price: 270\n"
     ]
    },
    {
     "name": "stdout",
     "output_type": "stream",
     "text": [
      "You have got the dicount of price: 243.0\n"
     ]
    }
   ],
   "source": [
    "price=int(input(\"Enter the price:\"))\n",
    "if price >500:\n",
    "    price=price-price*0.20\n",
    "    print(\"You have got the discount of price:\",price)\n",
    "elif 200<=price<=500:\n",
    "    price=price-price*0.10\n",
    "    print(\"You have got the dicount of price:\",price)\n",
    "else:\n",
    "    print(\"no discount\")"
   ]
  },
  {
   "cell_type": "code",
   "execution_count": 68,
   "id": "b544ab27-a0d9-4000-aa27-678253284156",
   "metadata": {},
   "outputs": [
    {
     "name": "stdout",
     "output_type": "stream",
     "text": [
      "Count: 1\n",
      "Count: 2\n",
      "Count: 3\n",
      "Count: 4\n",
      "Count: 5\n"
     ]
    }
   ],
   "source": [
    "count=1\n",
    "while count<=5:\n",
    "    print(\"Count:\",count)\n",
    "    count+=1"
   ]
  },
  {
   "cell_type": "code",
   "execution_count": 72,
   "id": "4a120139-6534-4c82-aea8-e7beb458a63c",
   "metadata": {},
   "outputs": [
    {
     "name": "stdout",
     "output_type": "stream",
     "text": [
      "Count is: 0\n",
      "Count is: 1\n",
      "Count is: 2\n",
      "Breaking at count : 3\n"
     ]
    }
   ],
   "source": [
    "count=0\n",
    "while count <=5:\n",
    "    if count == 3:\n",
    "        print(\"Breaking at count :\",count)\n",
    "        break\n",
    "    print(\"Count is:\",count)\n",
    "    count+=1"
   ]
  },
  {
   "cell_type": "code",
   "execution_count": 80,
   "id": "5b4df1ce-0f11-4d05-ad2a-003464da5236",
   "metadata": {},
   "outputs": [
    {
     "name": "stdin",
     "output_type": "stream",
     "text": [
      "Enter the first range of number: 1\n",
      "Enter the second range of number: 10\n"
     ]
    },
    {
     "name": "stdout",
     "output_type": "stream",
     "text": [
      "30\n"
     ]
    }
   ],
   "source": [
    "n1=int(input(\"Enter the first range of number:\"))\n",
    "n2=int(input(\"Enter the second range of number:\"))\n",
    "sum=0\n",
    "for i in range (n1,n2+1):\n",
    "    if i%2==0:\n",
    "        sum+=i\n",
    "    else:\n",
    "        continue\n",
    "print(sum)\n"
   ]
  },
  {
   "cell_type": "code",
   "execution_count": 79,
   "id": "d0a45212-d202-45f2-bfe7-79985396fd49",
   "metadata": {},
   "outputs": [
    {
     "name": "stdout",
     "output_type": "stream",
     "text": [
      "1 \n",
      "1 2 \n",
      "1 2 3 \n",
      "1 2 3 4 \n",
      "1 2 3 4 5 \n"
     ]
    }
   ],
   "source": [
    "for i in range(1,6):\n",
    "    for j in range(1,i+1):\n",
    "        print(j,end=\" \")\n",
    "    print()"
   ]
  },
  {
   "cell_type": "code",
   "execution_count": 81,
   "id": "ed0f9dfc-6bd4-4182-b813-74bd42b7c040",
   "metadata": {},
   "outputs": [
    {
     "name": "stdout",
     "output_type": "stream",
     "text": [
      "Heloo world\n"
     ]
    }
   ],
   "source": [
    "def hello():\n",
    "    print(\"Heloo world\")\n",
    "hello()"
   ]
  },
  {
   "cell_type": "code",
   "execution_count": 86,
   "id": "a033e999-1e9c-4c14-a5a5-4f51fcd75f3e",
   "metadata": {},
   "outputs": [
    {
     "name": "stdout",
     "output_type": "stream",
     "text": [
      "Good morning vinutha\n"
     ]
    }
   ],
   "source": [
    "def greet(name):\n",
    "    print(\"Good morning\",name)\n",
    "greet(\"vinutha\")"
   ]
  },
  {
   "cell_type": "code",
   "execution_count": 89,
   "id": "b7b5ffff-6fa4-4d1a-8859-2f18b5598139",
   "metadata": {},
   "outputs": [
    {
     "name": "stdout",
     "output_type": "stream",
     "text": [
      "result: 8\n"
     ]
    }
   ],
   "source": [
    "def add_Number(a,b):\n",
    "    result=a+b\n",
    "    print(\"result:\",a+b)\n",
    "add_Number(3,5)"
   ]
  },
  {
   "cell_type": "code",
   "execution_count": 90,
   "id": "d8b3eac2-6f89-481a-8b28-d4e6cae0672b",
   "metadata": {},
   "outputs": [
    {
     "name": "stdout",
     "output_type": "stream",
     "text": [
      "result: 15\n"
     ]
    }
   ],
   "source": [
    "def add_Number(a,b):\n",
    "    print(\"result:\",a*b)\n",
    "add_Number(3,5)"
   ]
  },
  {
   "cell_type": "code",
   "execution_count": 91,
   "id": "57519b2b-d9bf-4d37-ba9f-87cabf3e9e66",
   "metadata": {},
   "outputs": [
    {
     "name": "stdout",
     "output_type": "stream",
     "text": [
      "result: -2\n"
     ]
    }
   ],
   "source": [
    "def add_Number(a,b):\n",
    "    print(\"result:\",a-b)\n",
    "add_Number(3,5)"
   ]
  },
  {
   "cell_type": "code",
   "execution_count": 92,
   "id": "443fecf7-11aa-47a6-bbdf-4870cb31fc85",
   "metadata": {},
   "outputs": [
    {
     "name": "stdout",
     "output_type": "stream",
     "text": [
      "result: 0.6\n"
     ]
    }
   ],
   "source": [
    "def add_Number(a,b):\n",
    "    print(\"result:\",a/b)\n",
    "add_Number(3,5)"
   ]
  },
  {
   "cell_type": "code",
   "execution_count": 94,
   "id": "f31b16c7-3366-44d2-8f16-81e1b776bab3",
   "metadata": {},
   "outputs": [
    {
     "name": "stdout",
     "output_type": "stream",
     "text": [
      "The name is vinutha and my age is 23 and my city is nyc\n"
     ]
    }
   ],
   "source": [
    "def person(name,age,city):\n",
    "    print(f\"The name is {name} and my age is {age} and my city is {city}\")\n",
    "person(name= \"vinutha\",age=23,city=\"nyc\")"
   ]
  },
  {
   "cell_type": "code",
   "execution_count": 96,
   "id": "2f324ea8-4e15-4373-89bb-90ee7be803fc",
   "metadata": {},
   "outputs": [
    {
     "name": "stdout",
     "output_type": "stream",
     "text": [
      "120\n"
     ]
    }
   ],
   "source": [
    "def factorial(n):\n",
    "    if n==1:\n",
    "        return 1\n",
    "    else:\n",
    "        return n*factorial(n-1)\n",
    "result=factorial(5)\n",
    "print(result)"
   ]
  },
  {
   "cell_type": "code",
   "execution_count": 98,
   "id": "f342d2e3-c3b1-4286-9a9f-45ff05f7f40c",
   "metadata": {},
   "outputs": [],
   "source": [
    "def login(email,password):\n",
    "    if email=='admin@gmail.com' and password=='admin@123':\n",
    "        print(\"welcome\")\n",
    "    else:\n",
    "        print(\"Wrong email\")\n",
    "\n",
    "    "
   ]
  },
  {
   "cell_type": "code",
   "execution_count": 114,
   "id": "7b2e871f-26f6-46cb-9c13-6c352c3783cd",
   "metadata": {},
   "outputs": [
    {
     "name": "stdout",
     "output_type": "stream",
     "text": [
      "[10, 20, 30, 40]\n",
      "30\n",
      "[10, 20, 30, 40, 50]\n",
      "[10, 20, 25, 30, 40, 50]\n",
      "50\n",
      "[10, 20, 25, 30, 40]\n",
      "5\n",
      "MInimum value: 10\n",
      "Maximum value: 40\n",
      "[10, 20, 30, 40]\n"
     ]
    }
   ],
   "source": [
    "#list\n",
    "myList=[10,20,30,40]\n",
    "print(myList)\n",
    "print(myList[2])\n",
    "myList.append(50)\n",
    "print(myList)\n",
    "myList.insert(2,25)\n",
    "print(myList)\n",
    "print(myList.pop())\n",
    "print(myList)\n",
    "print(len(myList))\n",
    "print(\"MInimum value:\",min(myList))\n",
    "print(\"Maximum value:\",max(myList))\n",
    "# print(\"sum value:\",sum(myList))\n",
    "myList.remove(25)\n",
    "print(myList)"
   ]
  },
  {
   "cell_type": "code",
   "execution_count": 118,
   "id": "3ae617c3-3bef-4819-86ea-1e67a6da19c8",
   "metadata": {},
   "outputs": [
    {
     "name": "stdout",
     "output_type": "stream",
     "text": [
      "mango\n",
      "[10, 20, 30, 40, 30, 70, 80, 30, 70, 80, 30, 70, 80]\n",
      "[10, 20, 30, 30, 70, 80, 30, 70, 80, 30, 70, 80]\n"
     ]
    }
   ],
   "source": [
    "fruits=[\"mango\",\"apple\",\"Chikoo\"]\n",
    "print(fruits[0])\n",
    "myList.extend([30,70,80])\n",
    "print(myList)\n",
    "myList.pop(3)\n",
    "print(myList)\n"
   ]
  },
  {
   "cell_type": "code",
   "execution_count": 120,
   "id": "5b07011a-9128-46f4-b89d-6457f9ddf170",
   "metadata": {},
   "outputs": [
    {
     "name": "stdout",
     "output_type": "stream",
     "text": [
      "1\n",
      "2\n",
      "3\n",
      "4\n",
      "5\n",
      "6\n",
      "7\n",
      "8\n",
      "9\n",
      "1\n",
      "2\n",
      "3\n",
      "4\n",
      "5\n",
      "6\n",
      "7\n",
      "8\n",
      "9\n"
     ]
    }
   ],
   "source": [
    "mydata=[1,2,3,4,5,6,7,8,9]\n",
    "for num in mydata:\n",
    "    print(num)\n",
    "i=0\n",
    "while i<len(mydata):\n",
    "    print(mydata[i])\n",
    "    i+=1"
   ]
  },
  {
   "cell_type": "code",
   "execution_count": 121,
   "id": "2b71c5dd-efc9-46fd-9be4-09c4c3ec615f",
   "metadata": {},
   "outputs": [
    {
     "name": "stdout",
     "output_type": "stream",
     "text": [
      "[9, 8, 7, 6, 5, 4, 3, 2, 1]\n"
     ]
    }
   ],
   "source": [
    "mydata.sort(reverse=True)\n",
    "print(mydata)"
   ]
  },
  {
   "cell_type": "code",
   "execution_count": 122,
   "id": "9c935967-6c53-49f3-8b51-3cd57ea01d95",
   "metadata": {},
   "outputs": [
    {
     "name": "stdout",
     "output_type": "stream",
     "text": [
      "[1, 2, 3, 4, 5, 6, 7, 8, 9]\n"
     ]
    }
   ],
   "source": [
    "mydata.reverse()\n",
    "print(mydata)"
   ]
  },
  {
   "cell_type": "code",
   "execution_count": 123,
   "id": "bb80046a-f703-406f-be11-8ba3d469d795",
   "metadata": {},
   "outputs": [
    {
     "name": "stdout",
     "output_type": "stream",
     "text": [
      "[10, 20, 30, 40]\n"
     ]
    }
   ],
   "source": [
    "number=[10,20,30,40]\n",
    "copy=number.copy()\n",
    "print(copy)"
   ]
  },
  {
   "cell_type": "code",
   "execution_count": 125,
   "id": "9fe413d0-e60c-4819-b709-7abd6f3c5cf1",
   "metadata": {},
   "outputs": [
    {
     "name": "stdout",
     "output_type": "stream",
     "text": [
      "('alex', 'bob', 'catty', 'david')\n",
      "('test', True, 10)\n"
     ]
    }
   ],
   "source": [
    "names=('alex','bob','catty','david')\n",
    "print(names)\n",
    "mixed=('test',True,10)\n",
    "print(mixed)"
   ]
  },
  {
   "cell_type": "code",
   "execution_count": 126,
   "id": "8fd5eb7c-5146-458f-9f71-6df38762f504",
   "metadata": {},
   "outputs": [
    {
     "name": "stdout",
     "output_type": "stream",
     "text": [
      "[1, 2, 3, 4, 5, 6, 7]\n"
     ]
    }
   ],
   "source": [
    "list=[1,2,3,4,5,6,7]\n",
    "print(list)"
   ]
  },
  {
   "cell_type": "code",
   "execution_count": 129,
   "id": "a7dada65-d28e-448d-b0ab-153f06485fd6",
   "metadata": {},
   "outputs": [
    {
     "name": "stdout",
     "output_type": "stream",
     "text": [
      "dict_items([('id', 1), ('name', 'alex'), ('email', 'alex@gmail.com'), ('address', 'us')])\n"
     ]
    }
   ],
   "source": [
    "student={\n",
    "    \"id\":1,\n",
    "    \"name\":\"alex\",\n",
    "    \"email\":\"alex@gmail.com\",\n",
    "    \"address\":\"us\"\n",
    "}\n",
    "print(student.items())"
   ]
  },
  {
   "cell_type": "code",
   "execution_count": 137,
   "id": "15ad6448-2b53-459f-8cad-ad056be9c219",
   "metadata": {},
   "outputs": [
    {
     "name": "stdout",
     "output_type": "stream",
     "text": [
      "{1, 2, 3, 4, 5, 6, 7, 8}\n",
      "{1, 2, 3, 4, 5, 6, 7, 8}\n",
      "{4, 5}\n",
      "{4, 5}\n",
      "{1, 2, 3}\n",
      "{1, 2, 3}\n",
      "{1, 2, 3, 6, 7, 8}\n",
      "{1, 2, 3, 6, 7, 8}\n"
     ]
    }
   ],
   "source": [
    "A={1,2,3,4,5}\n",
    "B={4,5,6,7,8}\n",
    "print(A|B)# (|) combines\n",
    "print(A.union(B))\n",
    "print(A & B)\n",
    "print(A.intersection(B))\n",
    "print(A-B)\n",
    "print(A.difference(B))\n",
    "print(A^B)\n",
    "print(A.symmetric_difference(B))\n"
   ]
  },
  {
   "cell_type": "code",
   "execution_count": 138,
   "id": "3510595c-6e56-44c7-885b-39c358ddd30d",
   "metadata": {},
   "outputs": [
    {
     "name": "stdout",
     "output_type": "stream",
     "text": [
      "Added David with a salary of 90000.\n",
      "Updated Bob's salary to 85000.\n",
      "Removed Alice.\n",
      "Employee Salaries:\n",
      "Bob: 85000\n",
      "Charlie: 75000\n",
      "David: 90000\n"
     ]
    }
   ],
   "source": [
    "employee_salaries = {\n",
    "    \"Alice\": 70000,\n",
    "    \"Bob\": 80000,\n",
    "    \"Charlie\": 75000\n",
    "}\n",
    "\n",
    "def add_employee(name, salary):\n",
    "    employee_salaries[name] = salary\n",
    "    print(f\"Added {name} with a salary of {salary}.\")\n",
    "\n",
    "def update_salary(name, new_salary):\n",
    "    if name in employee_salaries:\n",
    "        employee_salaries[name] = new_salary\n",
    "        print(f\"Updated {name}'s salary to {new_salary}.\")\n",
    "    else:\n",
    "        print(f\"Employee {name} not found.\")\n",
    "\n",
    "def remove_employee(name):\n",
    "    if name in employee_salaries:\n",
    "        del employee_salaries[name]\n",
    "        print(f\"Removed {name}.\")\n",
    "    else:\n",
    "        print(f\"Employee {name} not found.\")\n",
    "\n",
    "def display_employees():\n",
    "    if employee_salaries:\n",
    "        print(\"Employee Salaries:\")\n",
    "        for name, salary in employee_salaries.items():\n",
    "            print(f\"{name}: {salary}\")\n",
    "    else:\n",
    "        print(\"No employees found.\")\n",
    "\n",
    "add_employee(\"David\", 90000)\n",
    "update_salary(\"Bob\", 85000)\n",
    "remove_employee(\"Alice\")\n",
    "display_employees()\n",
    "\n",
    "    "
   ]
  },
  {
   "cell_type": "code",
   "execution_count": null,
   "id": "ee8c1931-d1b1-4f7b-9f64-b7d02a93ad91",
   "metadata": {},
   "outputs": [],
   "source": []
  }
 ],
 "metadata": {
  "kernelspec": {
   "display_name": "Python 3 (ipykernel)",
   "language": "python",
   "name": "python3"
  },
  "language_info": {
   "codemirror_mode": {
    "name": "ipython",
    "version": 3
   },
   "file_extension": ".py",
   "mimetype": "text/x-python",
   "name": "python",
   "nbconvert_exporter": "python",
   "pygments_lexer": "ipython3",
   "version": "3.13.2"
  }
 },
 "nbformat": 4,
 "nbformat_minor": 5
}
