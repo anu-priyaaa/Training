{
 "cells": [
  {
   "cell_type": "code",
   "execution_count": 1,
   "id": "165abb6b-9696-4a10-b832-a52cbbf22fe7",
   "metadata": {},
   "outputs": [
    {
     "name": "stdout",
     "output_type": "stream",
     "text": [
      "version:  2.2.3\n"
     ]
    }
   ],
   "source": [
    "import pandas as pd\n",
    "print('version: ',pd.__version__)"
   ]
  },
  {
   "cell_type": "code",
   "execution_count": 3,
   "id": "89cbec23-8691-47ed-b5fd-97c1ff3d82a4",
   "metadata": {},
   "outputs": [
    {
     "name": "stdout",
     "output_type": "stream",
     "text": [
      "0     1\n",
      "1     2\n",
      "2     5\n",
      "3    78\n",
      "4    45\n",
      "dtype: int64\n",
      "78\n"
     ]
    }
   ],
   "source": [
    "import pandas as pd\n",
    "list=[1,2,5,78,45]\n",
    "myseries=pd.Series(list)\n",
    "print(myseries)\n",
    "print(myseries[3])"
   ]
  },
  {
   "cell_type": "code",
   "execution_count": 7,
   "id": "4f825d04-4583-4402-9a09-52179ac3574b",
   "metadata": {},
   "outputs": [
    {
     "name": "stdout",
     "output_type": "stream",
     "text": [
      "a    1\n",
      "b    4\n",
      "c    6\n",
      "d    8\n",
      "dtype: int64\n",
      "4\n"
     ]
    }
   ],
   "source": [
    "import pandas as pd\n",
    "a=[1,4,6,8]\n",
    "myvar=pd.Series(a,index=[\"a\",\"b\",\"c\",\"d\"])\n",
    "print(myvar)\n",
    "print(myvar['b'])"
   ]
  },
  {
   "cell_type": "code",
   "execution_count": 12,
   "id": "ce9c42ef-a9cb-4c1c-b581-d644997077d8",
   "metadata": {},
   "outputs": [
    {
     "name": "stdout",
     "output_type": "stream",
     "text": [
      "id                           1\n",
      "name                  VinuthaG\n",
      "email        vinutha@gmail.com\n",
      "address                Ballari\n",
      "salary     8749823759870938145\n",
      "dtype: object\n",
      "id 1\n",
      "name VinuthaG\n",
      "email vinutha@gmail.com\n",
      "address Ballari\n",
      "salary 8749823759870938145\n"
     ]
    }
   ],
   "source": [
    "employee={\n",
    "    \"id\":1,\n",
    "    \"name\":\"VinuthaG\",\n",
    "    \"email\":\"vinutha@gmail.com\",\n",
    "    \"address\":\"Ballari\",\n",
    "    \"salary\":8749823759870938145\n",
    "}\n",
    "data=pd.Series(employee)\n",
    "print(data)\n",
    "print(\"id\",data[\"id\"])\n",
    "print(\"name\",data[\"name\"])\n",
    "print(\"email\",data[\"email\"])\n",
    "print(\"address\",data[\"address\"])\n",
    "print(\"salary\",data[\"salary\"])"
   ]
  },
  {
   "cell_type": "code",
   "execution_count": 13,
   "id": "a1bb32a7-fa2f-4ad6-8e61-1d89ceaf957a",
   "metadata": {},
   "outputs": [
    {
     "name": "stdout",
     "output_type": "stream",
     "text": [
      "      Name  Age     City\n",
      "0    Alice   25      nyc\n",
      "1      Bob   30       la\n",
      "2  Charlie   35  Chocago\n"
     ]
    }
   ],
   "source": [
    "data={\n",
    "    \"Name\":[\"Alice\",\"Bob\",\"Charlie\"],\n",
    "    \"Age\":[25,30,35],\n",
    "    \"City\":[\"nyc\",\"la\",\"Chocago\"]\n",
    "}\n",
    "df=pd.DataFrame(data)\n",
    "print(df)"
   ]
  },
  {
   "cell_type": "code",
   "execution_count": 14,
   "id": "82c96684-77dd-4057-a954-22847928b4ab",
   "metadata": {},
   "outputs": [
    {
     "name": "stdout",
     "output_type": "stream",
     "text": [
      "      Name  Age     City\n",
      "0    Alice   25      nyc\n",
      "1      Bob   30       la\n",
      "2  Charlie   35  Chocago\n",
      "FirstRow:\n",
      "Name    Alice\n",
      "Age        25\n",
      "City      nyc\n",
      "Name: 0, dtype: object\n",
      "    Name  Age City\n",
      "0  Alice   25  nyc\n",
      "1    Bob   30   la\n"
     ]
    }
   ],
   "source": [
    "data={\n",
    "    \"Name\":[\"Alice\",\"Bob\",\"Charlie\"],\n",
    "    \"Age\":[25,30,35],\n",
    "    \"City\":[\"nyc\",\"la\",\"Chocago\"]\n",
    "}\n",
    "myvar=pd.DataFrame(data)\n",
    "print(myvar)\n",
    "print(\"FirstRow:\")\n",
    "print(myvar.loc[0])\n",
    "print(myvar.loc[[0,1]])"
   ]
  },
  {
   "cell_type": "code",
   "execution_count": 15,
   "id": "6a18f3af-7911-42b6-986f-8812966fc601",
   "metadata": {},
   "outputs": [
    {
     "name": "stdout",
     "output_type": "stream",
     "text": [
      "id      1\n",
      "name    A\n",
      "Name: 0, dtype: object\n",
      "A\n",
      "   id name\n",
      "0   1    A\n",
      "1   2    B\n"
     ]
    }
   ],
   "source": [
    "sample={\n",
    "    \"id\":[1,2,3,4],\n",
    "    \"name\":[\"A\",\"B\",\"C\",\"D\"]\n",
    "}\n",
    "df = pd.DataFrame(sample)\n",
    "print(df.loc[0])\n",
    "print(df.iloc[0,1])\n",
    "print(df.loc[[0,1]])"
   ]
  },
  {
   "cell_type": "code",
   "execution_count": 16,
   "id": "aec1617a-fd08-4879-b186-326c33468097",
   "metadata": {},
   "outputs": [
    {
     "name": "stdout",
     "output_type": "stream",
     "text": [
      "   id name\n",
      "0   1    A\n",
      "3   4    D\n"
     ]
    }
   ],
   "source": [
    "print(df.loc[[0,3]])"
   ]
  },
  {
   "cell_type": "code",
   "execution_count": 17,
   "id": "17311a74-86aa-4160-915c-d1403a212cdb",
   "metadata": {},
   "outputs": [
    {
     "name": "stdout",
     "output_type": "stream",
     "text": [
      "Name    Charlie\n",
      "Age          35\n",
      "Name: user3, dtype: object\n",
      "          Name  Age\n",
      "user1    Alice   25\n",
      "user2      Bob   30\n",
      "user3  Charlie   35\n"
     ]
    }
   ],
   "source": [
    "user_data={\n",
    "    \"Name\":[\"Alice\",\"Bob\",\"Charlie\"],\n",
    "    \"Age\":[25,30,35]\n",
    "}\n",
    "df1=pd.DataFrame(user_data,index=[\"user1\",\"user2\",\"user3\"])\n",
    "print(df1.loc[\"user3\"])\n",
    "print(df1)"
   ]
  },
  {
   "cell_type": "code",
   "execution_count": 19,
   "id": "51a67079-39ae-4804-a3da-d5c3a4c72a13",
   "metadata": {},
   "outputs": [
    {
     "name": "stdout",
     "output_type": "stream",
     "text": [
      "      Name  Address  Age\n",
      "0    Alice  ballari   25\n",
      "1      Bob   mysore   30\n",
      "2  Charlie     beng   35\n"
     ]
    }
   ],
   "source": [
    "user_data={\n",
    "    \"Age\":[25,30,35],\n",
    "    \"Name\":[\"Alice\",\"Bob\",\"Charlie\"],\n",
    "    \"Address\":[\"ballari\",\"mysore\",\"beng\"]\n",
    "}\n",
    "df1=pd.DataFrame(user_data,columns=[\"Name\",\"Address\",\"Age\"])\n",
    "print(df1)"
   ]
  },
  {
   "cell_type": "code",
   "execution_count": 20,
   "id": "99ab238b-5f0c-48f7-ba31-bb3291b77116",
   "metadata": {},
   "outputs": [
    {
     "name": "stdin",
     "output_type": "stream",
     "text": [
      "Enter name:  vinutha\n",
      "Enter age:  23\n",
      "Enter salary:  2897298347\n",
      "Enter email:  vinitha@gmail.com\n"
     ]
    },
    {
     "name": "stdout",
     "output_type": "stream",
     "text": [
      "      name  age              email      salary\n",
      "0     alex   23     alex@gmail.com       54678\n",
      "1    catty   24      cat@gmail.com       56789\n",
      "2      bob   23      bob@gmail.com       98765\n",
      "3  vinutha   23  vinitha@gmail.com  2897298347\n"
     ]
    }
   ],
   "source": [
    "import pandas as pd\n",
    " \n",
    "# Function to get user input\n",
    "def get_user_input():\n",
    "    name = input(\"Enter name: \")\n",
    "    age = int(input(\"Enter age: \"))\n",
    "    salary = int(input(\"Enter salary: \"))\n",
    "    email = input(\"Enter email: \")\n",
    "    return {\"name\": name, \"age\": age, \"salary\": salary, \"email\": email}\n",
    " \n",
    "# Initial data\n",
    "user_data = {\n",
    "    \"name\": [\"alex\", \"catty\", \"bob\"],\n",
    "    \"age\": [23, 24, 23],\n",
    "    \"salary\": [54678, 56789, 98765],\n",
    "    \"email\": [\"alex@gmail.com\", \"cat@gmail.com\", \"bob@gmail.com\"]\n",
    "}\n",
    " \n",
    "# Get new user input\n",
    "new_user = get_user_input()\n",
    " \n",
    "# Append new user data to the existing data\n",
    "for key in user_data:\n",
    "    user_data[key].append(new_user[key])\n",
    " \n",
    "# Create DataFrame\n",
    "df1 = pd.DataFrame(user_data, columns=[\"name\", \"age\", \"email\", \"salary\"])\n",
    "print(df1)"
   ]
  },
  {
   "cell_type": "code",
   "execution_count": 23,
   "id": "aad5d476-6b07-4eff-a82e-9a4ffdcc609d",
   "metadata": {},
   "outputs": [
    {
     "name": "stdout",
     "output_type": "stream",
     "text": [
      "       Name  Age         city\n",
      "0     Alice   25      ballari\n",
      "1   vinutha   22       mysore\n",
      "2  chandana   21  pandavapura\n"
     ]
    }
   ],
   "source": [
    "user_data=[\n",
    "    [\"Alice\",25,\"ballari\"],\n",
    "    [\"vinutha\",22,\"mysore\"],\n",
    "    [\"chandana\",21,\"pandavapura\"]\n",
    "]\n",
    "df1=pd.DataFrame(user_data,columns=[\"Name\",\"Age\",\"city\"])\n",
    "print(df1)"
   ]
  },
  {
   "cell_type": "code",
   "execution_count": 25,
   "id": "79de5b49-1649-4764-8441-2594f87ae458",
   "metadata": {},
   "outputs": [
    {
     "name": "stdout",
     "output_type": "stream",
     "text": [
      "     id               name                          email  gender  ip_address\n",
      "0     1     Dominic Alwell         dalwell0@moonfruit.com    Male          10\n",
      "1     2       Pascal Ladel                  pladel1@51.la    Male           6\n",
      "2     3       Gaby Chidler             gchidler2@admin.ch  Female           5\n",
      "3     4      Craig Stirley  cstirley3@acquirethisname.com    Male           5\n",
      "4     5  Charline McFadyen         cmcfadyen4@nytimes.com  Female          10\n",
      "..  ...                ...                            ...     ...         ...\n",
      "95   96      Husain Briers        hbriers2n@blinklist.com    Male           4\n",
      "96   97     Alameda Delves             adelves2o@nasa.gov  Female           7\n",
      "97   98   Rochette O'Devey        rodevey2p@indiegogo.com  Female           3\n",
      "98   99         Porty Adin              padin2q@google.pl    Male           2\n",
      "99  100      Lilly Hartles             lhartles2r@usa.gov  Female           4\n",
      "\n",
      "[100 rows x 5 columns]\n"
     ]
    }
   ],
   "source": [
    "student_data=pd.read_csv('student_data.csv')\n",
    "print(student_data)"
   ]
  },
  {
   "cell_type": "code",
   "execution_count": null,
   "id": "f67d9057-7649-4b20-8da9-798ca3fd711d",
   "metadata": {},
   "outputs": [],
   "source": []
  }
 ],
 "metadata": {
  "kernelspec": {
   "display_name": "Python 3 (ipykernel)",
   "language": "python",
   "name": "python3"
  },
  "language_info": {
   "codemirror_mode": {
    "name": "ipython",
    "version": 3
   },
   "file_extension": ".py",
   "mimetype": "text/x-python",
   "name": "python",
   "nbconvert_exporter": "python",
   "pygments_lexer": "ipython3",
   "version": "3.13.2"
  }
 },
 "nbformat": 4,
 "nbformat_minor": 5
}
